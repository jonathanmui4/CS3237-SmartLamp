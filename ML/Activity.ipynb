{
 "cells": [
  {
   "cell_type": "code",
   "execution_count": 18,
   "id": "dd63fa12-f1bb-47c7-bc76-bb52b9ed2059",
   "metadata": {},
   "outputs": [],
   "source": [
    "import os\n",
    "import numpy as np\n",
    "import pandas as pd\n",
    "from PIL import Image\n",
    "from sklearn.metrics import accuracy_score, confusion_matrix, classification_report\n",
    "import matplotlib.pyplot as plt\n",
    "import seaborn as sns\n",
    "\n",
    "import torch\n",
    "import torch.nn as nn\n",
    "import torch.optim as optim\n",
    "import torch.nn.functional as F\n",
    "from torch.utils.data import Dataset, DataLoader, random_split\n",
    "from torchvision import models, transforms\n",
    "from torchvision.models import ResNet18_Weights"
   ]
  },
  {
   "cell_type": "markdown",
   "id": "4bbf3711-1685-439c-b73d-4ec9da1c58fa",
   "metadata": {},
   "source": [
    "# 1. Import data based on folders\n",
    "Data is labelled and put into their respective class folders"
   ]
  },
  {
   "cell_type": "code",
   "execution_count": 19,
   "id": "f4c076b3-e619-4e00-b340-b7fb6c143c12",
   "metadata": {},
   "outputs": [],
   "source": [
    "def count_files_in_dir(dir_path):\n",
    "    count = 0\n",
    "    for path in os.listdir(dir_path):\n",
    "        if os.path.isfile and not path.endswith('.DS_Store'):\n",
    "            count += 1\n",
    "    return count"
   ]
  },
  {
   "cell_type": "code",
   "execution_count": 27,
   "id": "6e15b3be-4df5-4cc7-896b-8076dcd25be6",
   "metadata": {},
   "outputs": [
    {
     "name": "stdout",
     "output_type": "stream",
     "text": [
      "Directory reading has 243 files.\n",
      "Directory not_present has 150 files.\n",
      "Directory asleep has 166 files.\n",
      "Directory computer_use has 198 files.\n"
     ]
    }
   ],
   "source": [
    "label_names = [\"reading\", \"not_present\", \"asleep\", \"computer_use\"]\n",
    "\n",
    "for d in os.listdir(\"dataset/images\"):\n",
    "    if os.path.isdir and d != '.DS_Store':\n",
    "        file_count = count_files_in_dir(os.path.join(\"dataset/images\", d))\n",
    "        print(f\"Directory {d} has {file_count} files.\")"
   ]
  },
  {
   "cell_type": "markdown",
   "id": "fc0814c5-c84b-44b9-ab67-88061548755a",
   "metadata": {},
   "source": [
    "Create a custom dataset class"
   ]
  },
  {
   "cell_type": "code",
   "execution_count": 28,
   "id": "a1928fdd-1526-4a17-bc45-78a771edeaa2",
   "metadata": {},
   "outputs": [],
   "source": [
    "class CustomDataset(Dataset):\n",
    "    def __init__(self, root_dir, transform=None):\n",
    "        self.root_dir = root_dir\n",
    "        self.transform = transform\n",
    "        self.classes = [d for d in os.listdir(root_dir) if os.path.isdir(os.path.join(root_dir, d))]\n",
    "        self.files = [(f, c) for c in self.classes for f in os.listdir(os.path.join(root_dir, c)) if f.lower().endswith(('png', 'jpg', 'jpeg'))]\n",
    "\n",
    "    def __len__(self):\n",
    "        return len(self.files)\n",
    "\n",
    "    def __getitem__(self, idx):\n",
    "        img_name, label = self.files[idx]\n",
    "        img_path = os.path.join(self.root_dir, label, img_name)\n",
    "        image = Image.open(img_path)\n",
    "        if self.transform:\n",
    "            image = self.transform(image)\n",
    "        return image, self.classes.index(label)"
   ]
  },
  {
   "cell_type": "markdown",
   "id": "a4110daf-8677-4772-9861-aa0e8fc42510",
   "metadata": {},
   "source": [
    "Define Transformations"
   ]
  },
  {
   "cell_type": "code",
   "execution_count": 29,
   "id": "a5cb3664-94c3-433b-938f-9eea45c728d3",
   "metadata": {},
   "outputs": [],
   "source": [
    "transform = transforms.Compose([\n",
    "    transforms.Resize((128, 128)),\n",
    "    transforms.ToTensor(),\n",
    "    transforms.Normalize(mean=[0.485, 0.456, 0.406], std=[0.229, 0.224, 0.225]),\n",
    "])"
   ]
  },
  {
   "cell_type": "markdown",
   "id": "1f471af8-fefe-4096-a97c-457ff16d6ef9",
   "metadata": {},
   "source": [
    "Define datasets and split it into training and testing"
   ]
  },
  {
   "cell_type": "code",
   "execution_count": 30,
   "id": "3462aff5-db80-4df0-8d65-ba28913be146",
   "metadata": {},
   "outputs": [
    {
     "name": "stdout",
     "output_type": "stream",
     "text": [
      "['reading', 'not_present', 'asleep', 'computer_use']\n",
      "<class 'torch.Tensor'> <class 'torch.Tensor'>\n",
      "torch.Size([16, 3, 128, 128]) torch.Size([16])\n",
      "Labels:  tensor([3, 3, 2, 1, 0, 2, 3, 2, 1, 3, 0, 3, 3, 0, 0, 1])\n"
     ]
    }
   ],
   "source": [
    "dataset = CustomDataset(root_dir='dataset/images', transform=transform)\n",
    "label_names = dataset.classes\n",
    "print(label_names)\n",
    "\n",
    "# Split the dataset into training and testing sets\n",
    "train_size = int(0.8 * len(dataset))\n",
    "test_size = len(dataset) - train_size\n",
    "train_dataset, test_dataset = random_split(dataset, [train_size, test_size])\n",
    "\n",
    "# Create data loaders\n",
    "train_loader = DataLoader(train_dataset, batch_size=16, shuffle=False)\n",
    "test_loader = DataLoader(test_dataset, batch_size=16, shuffle=False)\n",
    "\n",
    "# Check data loader \n",
    "data_iter = iter(train_loader)\n",
    "images, labels = next(data_iter)\n",
    "print(type(images), type(labels))\n",
    "print(images.shape, labels.shape)\n",
    "print(\"Labels: \", labels)"
   ]
  },
  {
   "cell_type": "markdown",
   "id": "12def93c-0058-43d8-bf5f-017771e704fc",
   "metadata": {},
   "source": [
    "# 2. Design the CNN"
   ]
  },
  {
   "cell_type": "code",
   "execution_count": 31,
   "id": "89d1c7b8-60f1-4c33-aab5-3cd711968388",
   "metadata": {},
   "outputs": [
    {
     "name": "stdout",
     "output_type": "stream",
     "text": [
      "CNN(\n",
      "  (conv1): Conv2d(3, 16, kernel_size=(3, 3), stride=(1, 1), padding=(1, 1))\n",
      "  (conv2): Conv2d(16, 32, kernel_size=(3, 3), stride=(1, 1), padding=(1, 1))\n",
      "  (conv3): Conv2d(32, 64, kernel_size=(3, 3), stride=(1, 1), padding=(1, 1))\n",
      "  (fc1): Linear(in_features=16384, out_features=128, bias=True)\n",
      "  (fc2): Linear(in_features=128, out_features=4, bias=True)\n",
      ")\n"
     ]
    }
   ],
   "source": [
    "class CNN(nn.Module):\n",
    "    def __init__(self):\n",
    "        super(CNN, self).__init__()\n",
    "        self.conv1 = nn.Conv2d(in_channels=3, out_channels=16, kernel_size=3, stride=1, padding=1)\n",
    "        self.conv2 = nn.Conv2d(in_channels=16, out_channels=32, kernel_size=3, stride=1, padding=1)\n",
    "        self.conv3 = nn.Conv2d(in_channels=32, out_channels=64, kernel_size=3, stride=1, padding=1)\n",
    "        self.fc1 = nn.Linear(in_features=64*16*16, out_features=128)  # assuming the input image size is 128x128\n",
    "        self.fc2 = nn.Linear(in_features=128, out_features=4)  # 4 classes\n",
    "\n",
    "    def forward(self, x):\n",
    "        x = torch.relu(self.conv1(x))\n",
    "        x = torch.max_pool2d(x, kernel_size=2, stride=2)\n",
    "        x = torch.relu(self.conv2(x))\n",
    "        x = torch.max_pool2d(x, kernel_size=2, stride=2)\n",
    "        x = torch.relu(self.conv3(x))\n",
    "        x = torch.max_pool2d(x, kernel_size=2, stride=2)\n",
    "        x = x.view(x.size(0), -1)  # flatten the tensor\n",
    "        x = torch.relu(self.fc1(x))\n",
    "        x = self.fc2(x)\n",
    "        return x\n",
    "\n",
    "# Instantiate the model\n",
    "model = CNN()\n",
    "print(model)"
   ]
  },
  {
   "cell_type": "markdown",
   "id": "aac2590b-3548-4942-906e-7b7f5d089d79",
   "metadata": {},
   "source": [
    "# 3. Train the model "
   ]
  },
  {
   "cell_type": "markdown",
   "id": "f9fa6ce8-0507-4231-99f8-715c4e80584e",
   "metadata": {},
   "source": [
    "First, check if GPU backend works"
   ]
  },
  {
   "cell_type": "code",
   "execution_count": 32,
   "id": "eb29b9d3-10b3-42b9-946f-ba3f4b2b6c0e",
   "metadata": {},
   "outputs": [
    {
     "data": {
      "text/plain": [
       "True"
      ]
     },
     "execution_count": 32,
     "metadata": {},
     "output_type": "execute_result"
    }
   ],
   "source": [
    "torch.backends.mps.is_available()"
   ]
  },
  {
   "cell_type": "code",
   "execution_count": 33,
   "id": "a98075e8-61a6-495d-afba-c2192da84159",
   "metadata": {},
   "outputs": [
    {
     "name": "stdout",
     "output_type": "stream",
     "text": [
      "Epoch [1/10] - Loss: 0.8285 - Accuracy: 0.6450\n",
      "Epoch [2/10] - Loss: 0.3283 - Accuracy: 0.8900\n",
      "Epoch [3/10] - Loss: 0.1762 - Accuracy: 0.9467\n",
      "Epoch [4/10] - Loss: 0.0854 - Accuracy: 0.9767\n",
      "Epoch [5/10] - Loss: 0.0167 - Accuracy: 0.9967\n",
      "Epoch [6/10] - Loss: 0.0037 - Accuracy: 1.0000\n",
      "Epoch [7/10] - Loss: 0.0032 - Accuracy: 1.0000\n",
      "Epoch [8/10] - Loss: 0.0012 - Accuracy: 1.0000\n",
      "Epoch [9/10] - Loss: 0.0007 - Accuracy: 1.0000\n",
      "Epoch [10/10] - Loss: 0.0011 - Accuracy: 1.0000\n"
     ]
    }
   ],
   "source": [
    "# define training hyperparameters\n",
    "lr = 1e-3\n",
    "num_epochs = 10\n",
    "\n",
    "# set the device we will be using to train the model (to enable hardware acceleration)\n",
    "device = torch.device(\"mps\" if torch.backends.mps.is_available() else \"cpu\") # setting for mac\n",
    "criterion = nn.CrossEntropyLoss()\n",
    "optimizer = torch.optim.Adam(model.parameters(), lr=lr)\n",
    "model.to(device)\n",
    "\n",
    "for epoch in range(num_epochs):\n",
    "    running_loss = 0.0  # Keep track of running loss\n",
    "    correct_preds = 0   # Keep track of the number of correct predictions\n",
    "    total_samples = 0   # Keep track of the total number of samples\n",
    "    \n",
    "    for images, labels in train_loader:\n",
    "        images, labels = images.to(device), labels.to(device)\n",
    "        # Zero the parameter gradients\n",
    "        optimizer.zero_grad()\n",
    "        # Forward pass\n",
    "        outputs = model(images)\n",
    "        loss = criterion(outputs, labels)\n",
    "        # Backward pass and optimization\n",
    "        loss.backward()\n",
    "        optimizer.step()\n",
    "        \n",
    "        # Update running loss\n",
    "        running_loss += loss.item() * images.size(0)\n",
    "        \n",
    "        # Compute predicted labels\n",
    "        _, predicted_labels = torch.max(outputs, 1)\n",
    "        \n",
    "        # Update number of correct predictions and total samples\n",
    "        correct_preds += (predicted_labels == labels).sum().item()\n",
    "        total_samples += labels.numel()\n",
    "        \n",
    "    # Compute average loss and accuracy for the epoch\n",
    "    epoch_loss = running_loss / total_samples\n",
    "    epoch_accuracy = correct_preds / total_samples\n",
    "    \n",
    "    # Print average loss and accuracy for the epoch\n",
    "    print(f'Epoch [{epoch+1}/{num_epochs}] - Loss: {epoch_loss:.4f} - Accuracy: {epoch_accuracy:.4f}')"
   ]
  },
  {
   "cell_type": "markdown",
   "id": "530c4aa0-aeaa-49e1-92f5-faa4b7c9fa5c",
   "metadata": {},
   "source": [
    "# 4. Evaluate the model"
   ]
  },
  {
   "cell_type": "code",
   "execution_count": 34,
   "id": "dad2d740-c3bc-47fe-89cb-3cf40b129f72",
   "metadata": {},
   "outputs": [
    {
     "name": "stdout",
     "output_type": "stream",
     "text": [
      "Classification Report:\n",
      "              precision    recall  f1-score   support\n",
      "\n",
      "     reading       0.88      0.88      0.88        43\n",
      " not_present       0.96      1.00      0.98        27\n",
      "      asleep       0.91      0.83      0.87        35\n",
      "computer_use       0.94      0.98      0.96        46\n",
      "\n",
      "    accuracy                           0.92       151\n",
      "   macro avg       0.92      0.92      0.92       151\n",
      "weighted avg       0.92      0.92      0.92       151\n",
      "\n"
     ]
    },
    {
     "data": {
      "text/plain": [
       "Text(0.5, 1.0, 'Confusion Matrix')"
      ]
     },
     "execution_count": 34,
     "metadata": {},
     "output_type": "execute_result"
    },
    {
     "data": {
      "image/png": "[encoded data removed]",
      "text/plain": [
       "<Figure size 800x600 with 2 Axes>"
      ]
     },
     "metadata": {},
     "output_type": "display_data"
    }
   ],
   "source": [
    "# Ensure the model is in evaluation mode\n",
    "model.eval()\n",
    "\n",
    "# Collect all labels and predictions\n",
    "all_labels = []\n",
    "all_preds = []\n",
    "\n",
    "# Disable gradient computation (as it's not needed for evaluation and saves memory)\n",
    "with torch.no_grad():\n",
    "    for images, labels in test_loader:\n",
    "        images, labels = images.to(device), labels.to(device)\n",
    "        outputs = model(images)\n",
    "        _, preds = torch.max(outputs, 1)\n",
    "        all_labels.append(labels)\n",
    "        all_preds.append(preds)\n",
    "\n",
    "# Concatenate all the labels and predictions\n",
    "all_labels = torch.cat(all_labels)\n",
    "all_preds = torch.cat(all_preds)\n",
    "\n",
    "# Compute the confusion matrix and classification report\n",
    "cm = confusion_matrix(all_labels.cpu().numpy(), all_preds.cpu().numpy())\n",
    "report = classification_report(all_labels.cpu().numpy(), all_preds.cpu().numpy(), target_names=dataset.classes)\n",
    "\n",
    "# Print the confusion matrix and classification report\n",
    "# print(\"Confusion Matrix:\")\n",
    "# print(cm)\n",
    "print(\"Classification Report:\")\n",
    "print(report)\n",
    "\n",
    "# 4. Display the confusion matrix\n",
    "plt.figure(figsize=(8, 6))\n",
    "sns.heatmap(cm, annot=True, fmt=\"d\", cmap=\"Blues\",\n",
    "            xticklabels=dataset.classes,\n",
    "            yticklabels=dataset.classes)\n",
    "plt.ylabel('Actual')\n",
    "plt.xlabel('Predicted')\n",
    "plt.title('Confusion Matrix')"
   ]
  },
  {
   "cell_type": "markdown",
   "id": "472200f2-f1ab-4e63-a5bf-a83021f18cf1",
   "metadata": {},
   "source": [
    "## Using Transfer Learning\n",
    "I'm gonna try using resnet-18 a pretrained model used to classify images."
   ]
  },
  {
   "cell_type": "code",
   "execution_count": 35,
   "id": "bcf89122-c205-4af1-9467-eac706fe0687",
   "metadata": {},
   "outputs": [
    {
     "name": "stdout",
     "output_type": "stream",
     "text": [
      "ResNet(\n",
      "  (conv1): Conv2d(3, 64, kernel_size=(7, 7), stride=(2, 2), padding=(3, 3), bias=False)\n",
      "  (bn1): BatchNorm2d(64, eps=1e-05, momentum=0.1, affine=True, track_running_stats=True)\n",
      "  (relu): ReLU(inplace=True)\n",
      "  (maxpool): MaxPool2d(kernel_size=3, stride=2, padding=1, dilation=1, ceil_mode=False)\n",
      "  (layer1): Sequential(\n",
      "    (0): BasicBlock(\n",
      "      (conv1): Conv2d(64, 64, kernel_size=(3, 3), stride=(1, 1), padding=(1, 1), bias=False)\n",
      "      (bn1): BatchNorm2d(64, eps=1e-05, momentum=0.1, affine=True, track_running_stats=True)\n",
      "      (relu): ReLU(inplace=True)\n",
      "      (conv2): Conv2d(64, 64, kernel_size=(3, 3), stride=(1, 1), padding=(1, 1), bias=False)\n",
      "      (bn2): BatchNorm2d(64, eps=1e-05, momentum=0.1, affine=True, track_running_stats=True)\n",
      "    )\n",
      "    (1): BasicBlock(\n",
      "      (conv1): Conv2d(64, 64, kernel_size=(3, 3), stride=(1, 1), padding=(1, 1), bias=False)\n",
      "      (bn1): BatchNorm2d(64, eps=1e-05, momentum=0.1, affine=True, track_running_stats=True)\n",
      "      (relu): ReLU(inplace=True)\n",
      "      (conv2): Conv2d(64, 64, kernel_size=(3, 3), stride=(1, 1), padding=(1, 1), bias=False)\n",
      "      (bn2): BatchNorm2d(64, eps=1e-05, momentum=0.1, affine=True, track_running_stats=True)\n",
      "    )\n",
      "  )\n",
      "  (layer2): Sequential(\n",
      "    (0): BasicBlock(\n",
      "      (conv1): Conv2d(64, 128, kernel_size=(3, 3), stride=(2, 2), padding=(1, 1), bias=False)\n",
      "      (bn1): BatchNorm2d(128, eps=1e-05, momentum=0.1, affine=True, track_running_stats=True)\n",
      "      (relu): ReLU(inplace=True)\n",
      "      (conv2): Conv2d(128, 128, kernel_size=(3, 3), stride=(1, 1), padding=(1, 1), bias=False)\n",
      "      (bn2): BatchNorm2d(128, eps=1e-05, momentum=0.1, affine=True, track_running_stats=True)\n",
      "      (downsample): Sequential(\n",
      "        (0): Conv2d(64, 128, kernel_size=(1, 1), stride=(2, 2), bias=False)\n",
      "        (1): BatchNorm2d(128, eps=1e-05, momentum=0.1, affine=True, track_running_stats=True)\n",
      "      )\n",
      "    )\n",
      "    (1): BasicBlock(\n",
      "      (conv1): Conv2d(128, 128, kernel_size=(3, 3), stride=(1, 1), padding=(1, 1), bias=False)\n",
      "      (bn1): BatchNorm2d(128, eps=1e-05, momentum=0.1, affine=True, track_running_stats=True)\n",
      "      (relu): ReLU(inplace=True)\n",
      "      (conv2): Conv2d(128, 128, kernel_size=(3, 3), stride=(1, 1), padding=(1, 1), bias=False)\n",
      "      (bn2): BatchNorm2d(128, eps=1e-05, momentum=0.1, affine=True, track_running_stats=True)\n",
      "    )\n",
      "  )\n",
      "  (layer3): Sequential(\n",
      "    (0): BasicBlock(\n",
      "      (conv1): Conv2d(128, 256, kernel_size=(3, 3), stride=(2, 2), padding=(1, 1), bias=False)\n",
      "      (bn1): BatchNorm2d(256, eps=1e-05, momentum=0.1, affine=True, track_running_stats=True)\n",
      "      (relu): ReLU(inplace=True)\n",
      "      (conv2): Conv2d(256, 256, kernel_size=(3, 3), stride=(1, 1), padding=(1, 1), bias=False)\n",
      "      (bn2): BatchNorm2d(256, eps=1e-05, momentum=0.1, affine=True, track_running_stats=True)\n",
      "      (downsample): Sequential(\n",
      "        (0): Conv2d(128, 256, kernel_size=(1, 1), stride=(2, 2), bias=False)\n",
      "        (1): BatchNorm2d(256, eps=1e-05, momentum=0.1, affine=True, track_running_stats=True)\n",
      "      )\n",
      "    )\n",
      "    (1): BasicBlock(\n",
      "      (conv1): Conv2d(256, 256, kernel_size=(3, 3), stride=(1, 1), padding=(1, 1), bias=False)\n",
      "      (bn1): BatchNorm2d(256, eps=1e-05, momentum=0.1, affine=True, track_running_stats=True)\n",
      "      (relu): ReLU(inplace=True)\n",
      "      (conv2): Conv2d(256, 256, kernel_size=(3, 3), stride=(1, 1), padding=(1, 1), bias=False)\n",
      "      (bn2): BatchNorm2d(256, eps=1e-05, momentum=0.1, affine=True, track_running_stats=True)\n",
      "    )\n",
      "  )\n",
      "  (layer4): Sequential(\n",
      "    (0): BasicBlock(\n",
      "      (conv1): Conv2d(256, 512, kernel_size=(3, 3), stride=(2, 2), padding=(1, 1), bias=False)\n",
      "      (bn1): BatchNorm2d(512, eps=1e-05, momentum=0.1, affine=True, track_running_stats=True)\n",
      "      (relu): ReLU(inplace=True)\n",
      "      (conv2): Conv2d(512, 512, kernel_size=(3, 3), stride=(1, 1), padding=(1, 1), bias=False)\n",
      "      (bn2): BatchNorm2d(512, eps=1e-05, momentum=0.1, affine=True, track_running_stats=True)\n",
      "      (downsample): Sequential(\n",
      "        (0): Conv2d(256, 512, kernel_size=(1, 1), stride=(2, 2), bias=False)\n",
      "        (1): BatchNorm2d(512, eps=1e-05, momentum=0.1, affine=True, track_running_stats=True)\n",
      "      )\n",
      "    )\n",
      "    (1): BasicBlock(\n",
      "      (conv1): Conv2d(512, 512, kernel_size=(3, 3), stride=(1, 1), padding=(1, 1), bias=False)\n",
      "      (bn1): BatchNorm2d(512, eps=1e-05, momentum=0.1, affine=True, track_running_stats=True)\n",
      "      (relu): ReLU(inplace=True)\n",
      "      (conv2): Conv2d(512, 512, kernel_size=(3, 3), stride=(1, 1), padding=(1, 1), bias=False)\n",
      "      (bn2): BatchNorm2d(512, eps=1e-05, momentum=0.1, affine=True, track_running_stats=True)\n",
      "    )\n",
      "  )\n",
      "  (avgpool): AdaptiveAvgPool2d(output_size=(1, 1))\n",
      "  (fc): Linear(in_features=512, out_features=4, bias=True)\n",
      ")\n"
     ]
    }
   ],
   "source": [
    "model_trf = models.resnet18(weights=ResNet18_Weights.IMAGENET1K_V1)\n",
    "\n",
    "# Modify final layers to match data\n",
    "num_ftrs = model_trf.fc.in_features\n",
    "model_trf.fc = nn.Linear(num_ftrs, 4)  # Assuming 4 classes in your dataset\n",
    "\n",
    "print(model_trf)"
   ]
  },
  {
   "cell_type": "markdown",
   "id": "9166946e-c39e-4296-8646-e3f888f616dc",
   "metadata": {},
   "source": [
    "### Training model\n",
    "First gotta test if GPU is working"
   ]
  },
  {
   "cell_type": "code",
   "execution_count": 36,
   "id": "934ba143-4085-4604-8960-7c9de96c09ac",
   "metadata": {},
   "outputs": [
    {
     "data": {
      "text/plain": [
       "True"
      ]
     },
     "execution_count": 36,
     "metadata": {},
     "output_type": "execute_result"
    }
   ],
   "source": [
    "torch.backends.mps.is_available()"
   ]
  },
  {
   "cell_type": "code",
   "execution_count": 37,
   "id": "ea259daf-6779-4d97-b48c-98ee4dee4b4d",
   "metadata": {},
   "outputs": [
    {
     "name": "stdout",
     "output_type": "stream",
     "text": [
      "Epoch [1/25] - Loss: 0.6438 - Accuracy: 0.7950\n",
      "Epoch [2/25] - Loss: 0.2322 - Accuracy: 0.9200\n",
      "Epoch [3/25] - Loss: 0.1928 - Accuracy: 0.9417\n",
      "Epoch [4/25] - Loss: 0.1891 - Accuracy: 0.9317\n",
      "Epoch [5/25] - Loss: 0.0581 - Accuracy: 0.9800\n",
      "Epoch [6/25] - Loss: 0.0595 - Accuracy: 0.9833\n",
      "Epoch [7/25] - Loss: 0.1901 - Accuracy: 0.9433\n",
      "Epoch [8/25] - Loss: 0.1320 - Accuracy: 0.9617\n",
      "Epoch [9/25] - Loss: 0.0595 - Accuracy: 0.9767\n",
      "Epoch [10/25] - Loss: 0.0140 - Accuracy: 0.9967\n",
      "Epoch [11/25] - Loss: 0.0015 - Accuracy: 1.0000\n",
      "Epoch [12/25] - Loss: 0.0008 - Accuracy: 1.0000\n",
      "Epoch [13/25] - Loss: 0.0006 - Accuracy: 1.0000\n",
      "Epoch [14/25] - Loss: 0.0005 - Accuracy: 1.0000\n",
      "Epoch [15/25] - Loss: 0.0004 - Accuracy: 1.0000\n",
      "Epoch [16/25] - Loss: 0.0004 - Accuracy: 1.0000\n",
      "Epoch [17/25] - Loss: 0.0003 - Accuracy: 1.0000\n",
      "Epoch [18/25] - Loss: 0.0003 - Accuracy: 1.0000\n",
      "Epoch [19/25] - Loss: 0.0002 - Accuracy: 1.0000\n",
      "Epoch [20/25] - Loss: 0.0002 - Accuracy: 1.0000\n",
      "Epoch [21/25] - Loss: 0.0002 - Accuracy: 1.0000\n",
      "Epoch [22/25] - Loss: 0.0002 - Accuracy: 1.0000\n",
      "Epoch [23/25] - Loss: 0.0002 - Accuracy: 1.0000\n",
      "Epoch [24/25] - Loss: 0.0002 - Accuracy: 1.0000\n",
      "Epoch [25/25] - Loss: 0.0001 - Accuracy: 1.0000\n"
     ]
    }
   ],
   "source": [
    "# define training hyperparameters\n",
    "lr = 1e-3\n",
    "num_epochs = 25\n",
    "\n",
    "# set the device we will be using to train the model (to enable hardware acceleration)\n",
    "device = torch.device(\"mps\" if torch.backends.mps.is_available() else \"cpu\") # setting for mac\n",
    "criterion = nn.CrossEntropyLoss()\n",
    "optimizer = torch.optim.Adam(model_trf.parameters(), lr=lr)\n",
    "model_trf.to(device)\n",
    "\n",
    "for epoch in range(num_epochs):\n",
    "    running_loss = 0.0  # Keep track of running loss\n",
    "    correct_preds = 0   # Keep track of the number of correct predictions\n",
    "    total_samples = 0   # Keep track of the total number of samples\n",
    "    \n",
    "    for images, labels in train_loader:\n",
    "        images, labels = images.to(device), labels.to(device)\n",
    "        # Zero the parameter gradients\n",
    "        optimizer.zero_grad()\n",
    "        # Forward pass\n",
    "        outputs = model_trf(images)\n",
    "        loss = criterion(outputs, labels)\n",
    "        # Backward pass and optimization\n",
    "        loss.backward()\n",
    "        optimizer.step()\n",
    "        \n",
    "        # Update running loss\n",
    "        running_loss += loss.item() * images.size(0)\n",
    "        \n",
    "        # Compute predicted labels\n",
    "        _, predicted_labels = torch.max(outputs, 1)\n",
    "        \n",
    "        # Update number of correct predictions and total samples\n",
    "        correct_preds += (predicted_labels == labels).sum().item()\n",
    "        total_samples += labels.numel()\n",
    "        \n",
    "    # Compute average loss and accuracy for the epoch\n",
    "    epoch_loss = running_loss / total_samples\n",
    "    epoch_accuracy = correct_preds / total_samples\n",
    "    \n",
    "    # Print average loss and accuracy for the epoch\n",
    "    print(f'Epoch [{epoch+1}/{num_epochs}] - Loss: {epoch_loss:.4f} - Accuracy: {epoch_accuracy:.4f}')"
   ]
  },
  {
   "cell_type": "markdown",
   "id": "e8593157-9d5c-4517-9350-d66be5cecf13",
   "metadata": {},
   "source": [
    "### Evaluate the model"
   ]
  },
  {
   "cell_type": "code",
   "execution_count": 38,
   "id": "843969c2-887f-4e6d-88eb-a121f90d808b",
   "metadata": {},
   "outputs": [
    {
     "name": "stdout",
     "output_type": "stream",
     "text": [
      "Classification Report:\n",
      "              precision    recall  f1-score   support\n",
      "\n",
      "     reading       0.98      0.95      0.96        43\n",
      " not_present       0.93      1.00      0.96        27\n",
      "      asleep       0.97      0.97      0.97        35\n",
      "computer_use       0.98      0.96      0.97        46\n",
      "\n",
      "    accuracy                           0.97       151\n",
      "   macro avg       0.96      0.97      0.97       151\n",
      "weighted avg       0.97      0.97      0.97       151\n",
      "\n"
     ]
    },
    {
     "data": {
      "text/plain": [
       "Text(0.5, 1.0, 'Confusion Matrix')"
      ]
     },
     "execution_count": 38,
     "metadata": {},
     "output_type": "execute_result"
    },
    {
     "data": {
      "image/png": "[encoded data removed]",
      "text/plain": [
       "<Figure size 800x600 with 2 Axes>"
      ]
     },
     "metadata": {},
     "output_type": "display_data"
    }
   ],
   "source": [
    "# Ensure the model is in evaluation mode\n",
    "model_trf.eval()\n",
    "\n",
    "# Collect all labels and predictions\n",
    "all_labels = []\n",
    "all_preds = []\n",
    "\n",
    "# Disable gradient computation (as it's not needed for evaluation and saves memory)\n",
    "with torch.no_grad():\n",
    "    for images, labels in test_loader:\n",
    "        images, labels = images.to(device), labels.to(device)\n",
    "        outputs = model_trf(images)\n",
    "        _, preds = torch.max(outputs, 1)\n",
    "        all_labels.append(labels)\n",
    "        all_preds.append(preds)\n",
    "\n",
    "# Concatenate all the labels and predictions\n",
    "all_labels = torch.cat(all_labels)\n",
    "all_preds = torch.cat(all_preds)\n",
    "\n",
    "# Compute the confusion matrix and classification report\n",
    "cm = confusion_matrix(all_labels.cpu().numpy(), all_preds.cpu().numpy())\n",
    "report = classification_report(all_labels.cpu().numpy(), all_preds.cpu().numpy(), target_names=dataset.classes)\n",
    "\n",
    "# Print the confusion matrix and classification report\n",
    "# print(\"Confusion Matrix:\")\n",
    "# print(cm)\n",
    "print(\"Classification Report:\")\n",
    "print(report)\n",
    "\n",
    "# 4. Display the confusion matrix\n",
    "plt.figure(figsize=(8, 6))\n",
    "sns.heatmap(cm, annot=True, fmt=\"d\", cmap=\"Blues\",\n",
    "            xticklabels=dataset.classes,\n",
    "            yticklabels=dataset.classes)\n",
    "plt.ylabel('Actual')\n",
    "plt.xlabel('Predicted')\n",
    "plt.title('Confusion Matrix')"
   ]
  },
  {
   "cell_type": "code",
   "execution_count": null,
   "id": "19012f90-8955-4be8-8ff9-dacabfecb468",
   "metadata": {},
   "outputs": [],
   "source": []
  }
 ],
 "metadata": {
  "kernelspec": {
   "display_name": "Python 3 (ipykernel)",
   "language": "python",
   "name": "python3"
  },
  "language_info": {
   "codemirror_mode": {
    "name": "ipython",
    "version": 3
   },
   "file_extension": ".py",
   "mimetype": "text/x-python",
   "name": "python",
   "nbconvert_exporter": "python",
   "pygments_lexer": "ipython3",
   "version": "3.8.6"
  }
 },
 "nbformat": 4,
 "nbformat_minor": 5
}
