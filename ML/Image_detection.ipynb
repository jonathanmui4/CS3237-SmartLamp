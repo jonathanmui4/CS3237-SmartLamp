{
 "cells": [
  {
   "cell_type": "code",
   "execution_count": 1,
   "metadata": {
    "executionInfo": {
     "elapsed": 2318,
     "status": "ok",
     "timestamp": 1696982674356,
     "user": {
      "displayName": "Jonathan Mui Koy Kit",
      "userId": "02155718658179568681"
     },
     "user_tz": -480
    },
    "id": "DXgKdd0ZCJnm"
   },
   "outputs": [],
   "source": [
    "# import libraries\n",
    "import os\n",
    "import numpy as np\n",
    "import cv2\n",
    "from sklearn.model_selection import train_test_split, GridSearchCV\n",
    "from skimage.feature import local_binary_pattern\n",
    "from sklearn.svm import SVC\n",
    "from sklearn.preprocessing import StandardScaler\n",
    "from sklearn.metrics import accuracy_score, confusion_matrix, classification_report\n",
    "import matplotlib.pyplot as plt\n",
    "import seaborn as sns\n",
    "\n"
   ]
  },
  {
   "cell_type": "markdown",
   "metadata": {
    "id": "R8lbuLis-JYS"
   },
   "source": [
    "# 1. Preprocess the images\n",
    "This involves resizing the images to a consistent size, converting them to grayscale, reducing noise and normalizing the pixel values"
   ]
  },
  {
   "cell_type": "markdown",
   "metadata": {
    "id": "JrZ_Ub8bGPxI"
   },
   "source": [
    "## Load images from google drive folder\n",
    "First up, we mount the google drive and define the constants required to load the images (batch size and image size).\n"
   ]
  },
  {
   "cell_type": "code",
   "execution_count": 2,
   "metadata": {
    "colab": {
     "base_uri": "https://localhost:8080/"
    },
    "executionInfo": {
     "elapsed": 19416,
     "status": "ok",
     "timestamp": 1696982696579,
     "user": {
      "displayName": "Jonathan Mui Koy Kit",
      "userId": "02155718658179568681"
     },
     "user_tz": -480
    },
    "id": "E6-j2q5a9-Ff",
    "outputId": "b0be356f-cc2b-48fb-87f4-bce40d52abba"
   },
   "outputs": [],
   "source": [
    "# Define constants\n",
    "IMG_SIZE = (128, 128)\n",
    "BATCH_SIZE = 32\n",
    "\n",
    "# Directories \n",
    "# One folder per class -> populate each folder with images of a posture\n",
    "reading_dir = \"./dataset/reading\"\n",
    "computer_dir = \"./dataset/computer_use\"\n",
    "asleep_dir = \"./dataset/asleep\"\n",
    "nobody_dir = \"./dataset/not_present\""
   ]
  },
  {
   "cell_type": "markdown",
   "metadata": {
    "id": "XzjBKzM7SLGN"
   },
   "source": [
    "We create a function to read in 1 image and apply preprocessing techniques on it:\n",
    "\n",
    "\n",
    "*   Grayscale\n",
    "*   Standardise image size\n",
    "* Noise Reduction\n",
    "* Normalise pixel values -> improves image contrast and visibility\n",
    "\n"
   ]
  },
  {
   "cell_type": "code",
   "execution_count": 3,
   "metadata": {
    "executionInfo": {
     "elapsed": 500,
     "status": "ok",
     "timestamp": 1696982700070,
     "user": {
      "displayName": "Jonathan Mui Koy Kit",
      "userId": "02155718658179568681"
     },
     "user_tz": -480
    },
    "id": "pUf9daSzSQa_"
   },
   "outputs": [],
   "source": [
    "def preprocess_img(img_path):\n",
    "  # 1. Load images in grayscale\n",
    "  img = cv2.imread(img_path, cv2.IMREAD_GRAYSCALE)\n",
    "  # 2. Standardise image size\n",
    "  img = cv2.resize(img, IMG_SIZE)\n",
    "  # 3. Reduce noise with Gaussian Blur\n",
    "  img = cv2.GaussianBlur(img, (5, 5), 0)\n",
    "  # 4. Normalise pixel values\n",
    "  # Comment out so it can be used in canny edge detection\n",
    "  # img = img.astype(\"float32\") / 255.0\n",
    "  return img"
   ]
  },
  {
   "cell_type": "markdown",
   "metadata": {
    "id": "u0pP6tU3n0KX"
   },
   "source": [
    "Next, we create a function to load the preprocessed images in batches. This is a more efficient way to load images and prevents this process of loading images from taking too much RAM"
   ]
  },
  {
   "cell_type": "code",
   "execution_count": 4,
   "metadata": {
    "colab": {
     "base_uri": "https://localhost:8080/"
    },
    "executionInfo": {
     "elapsed": 121607,
     "status": "ok",
     "timestamp": 1696982851977,
     "user": {
      "displayName": "Jonathan Mui Koy Kit",
      "userId": "02155718658179568681"
     },
     "user_tz": -480
    },
    "id": "WOVSokIwnzbu",
    "outputId": "9281a5d3-13c4-4301-a8c2-201dd7cf26e5"
   },
   "outputs": [],
   "source": [
    "# Label 1 for images with weapon, 0 for those without\n",
    "def image_generator(directory, label, batch_size=BATCH_SIZE):\n",
    "  image_files = os.listdir(directory)\n",
    "  total_images = len(image_files)\n",
    "  indices = np.arange(total_images)\n",
    "  for start in range(0, total_images, batch_size):\n",
    "    end = min(start + batch_size, total_images)\n",
    "    batch_indices = indices[start:end]\n",
    "    batch_images = []\n",
    "    for i in batch_indices:\n",
    "      print(image_files[i])\n",
    "      img = preprocess_img(os.path.join(directory, image_files[i]))\n",
    "      batch_images.append(img)\n",
    "\n",
    "    batch_labels = [label] * len(batch_images)\n",
    "    yield np.array(batch_images), np.array(batch_labels), total_images\n",
    "\n",
    "# Sanity check image_generator function (test 1 iteration to see if it works)\n",
    "#next(image_generator(train_weapon_dir, 1))"
   ]
  },
  {
   "cell_type": "markdown",
   "metadata": {
    "id": "KKesYgAL-iZ5"
   },
   "source": [
    "# 2. Extract features from the images\n",
    "We can try exploring a combination of OpenCV Selective search segmentation and edge detection/texture analysis to extract features of weapons from the images.\n",
    "\n",
    "I started a simple trial run using Canny for edge detection and LBP for texture detection to extract features from these images\n",
    "\n",
    "The features and labels are then organised into variables x and y before being fed to the model.\n",
    "\n",
    "Standard Scalar is then used to ensure all features have the same scale.\n",
    "\n",
    "## Beware this cell takes a while to run\n",
    "Took 7 min 58 s for me"
   ]
  },
  {
   "cell_type": "code",
   "execution_count": 5,
   "metadata": {
    "colab": {
     "base_uri": "https://localhost:8080/"
    },
    "executionInfo": {
     "elapsed": 358538,
     "status": "ok",
     "timestamp": 1696983220561,
     "user": {
      "displayName": "Jonathan Mui Koy Kit",
      "userId": "02155718658179568681"
     },
     "user_tz": -480
    },
    "id": "fGHw9mif_ALb",
    "outputId": "a73bab38-1c52-4425-8138-2ce27aa216a9"
   },
   "outputs": [
    {
     "name": "stdout",
     "output_type": "stream",
     "text": [
      "20231015123323.jpg\n",
      "20231015122210.jpg\n",
      "20231015123226.jpg\n",
      "20231015122649.jpg\n",
      "20231015122718.jpg\n",
      "20231015122526.jpg\n",
      "20231015123212.jpg\n",
      "20231015122906.jpg\n",
      "20231015122357.jpg\n",
      "20231015122231.jpg\n",
      "20231015122422.jpg\n",
      "20231015123306.jpg\n",
      "20231015122831.jpg\n",
      "20231015123018.jpg\n",
      "20231015122258.jpg\n",
      "20231015122121.jpg\n",
      "20231015123149.jpg\n",
      "20231015122130.jpg\n",
      "20231015123159.jpg\n",
      "20231015122142.jpg\n",
      "20231015122817.jpg\n",
      "20231015123426.jpg\n",
      "20231015122919.jpg\n",
      "20231015122852.jpg\n",
      "20231015123407.jpg\n",
      "20231015123411.jpg\n",
      "20231015123403.jpg\n",
      "20231015123451.jpg\n",
      "20231015123454.jpg\n"
     ]
    }
   ],
   "source": [
    "def extract_edge_and_texture_features(img):\n",
    "    # Edge detection using Canny\n",
    "    edges = cv2.Canny(img, 100, 200).flatten()\n",
    "\n",
    "    # Texture using LBP with scikit-image\n",
    "    P = 8  # number of circularly symmetric neighbor pixels to use\n",
    "    R = 1  # radius of circle\n",
    "    lbp_img = local_binary_pattern(img, P, R, method=\"uniform\")\n",
    "    lbp_hist, _ = np.histogram(lbp_img.ravel(), bins=P+2, range=(0, P+2))\n",
    "    lbp_hist_normalized = lbp_hist / np.sum(lbp_hist)  # Normalize the histogram\n",
    "\n",
    "    return np.hstack((edges, lbp_hist_normalized))\n",
    "\n",
    "def extract_features(directory, label):\n",
    "    samples, labels = [], []\n",
    "    for batch_imgs, batch_labels, total_images in image_generator(directory, label):\n",
    "        batch_features = [extract_edge_and_texture_features(img) for img in batch_imgs]\n",
    "        samples.extend(batch_features)\n",
    "        labels.extend(batch_labels)\n",
    "    return np.array(samples), np.array(labels)\n",
    "\n",
    "# Extract features\n",
    "# Label 1 for images with weapon, 0 for those without\n",
    "reading_features, reading_labels = extract_features(reading_dir, 1)\n",
    "computer_features, computer_labels = extract_features(computer_dir, 2)\n",
    "asleep_features, asleep_labels = extract_features(asleep_dir, 3)\n",
    "nobody_features, nobody_labels = extract_features(nobody_dir, 0)\n",
    "\n",
    "X = np.concatenate([reading_features, computer_features, asleep_features, nobody_features])\n",
    "y = np.concatenate([reading_labels, computer_labels, asleep_labels, nobody_labels])\n",
    "\n",
    "# Split dataset\n",
    "X_train, X_test, y_train, y_test = train_test_split(X, y, test_size=0.2, random_state=42)\n",
    "\n",
    "# Standardize data\n",
    "scaler = StandardScaler().fit(X_train)\n",
    "X_train = scaler.transform(X_train)\n",
    "X_test = scaler.transform(X_test)"
   ]
  },
  {
   "cell_type": "markdown",
   "metadata": {
    "id": "6VrqMQAy_BxC"
   },
   "source": [
    "# 3. Train Baseline classifier (SVM)\n",
    "We can use SVM here because it is effective when there is a clear margin of separation between the classes. Over here, we feed the extracted features from the images to the SVM classifier along with the corresponding labels (i.e. whether the image contains a weapon or not)."
   ]
  },
  {
   "cell_type": "markdown",
   "metadata": {
    "id": "V8PNZ4Yi-utn"
   },
   "source": [
    "# Hyperparameter tuning\n",
    "There are a couple of hyperparameters the SVM classifier can take in and we don't know which ones will give the best results. Hyperparameter tuning goes through a list of different values per parameter and tries to find the optimal parameters that will give the best result. In our case, because we only have 2 classes, the linear kernel of the SVM would work best which means the only hyperparameter we can really adjust is 'C'. C controls the trade-off between model complexity and generalization performance. A higher 'c' value will lead to a more complex model but also increases risk of overfitting. A lower 'c' value will lead to a simpler model that may not be able to learn underlying relationships in data.\n",
    "\n",
    "**Warning: Running the hyperparameter tuned SVM takes about 30mins!**\n",
    "Uncomment clf= SVC(kernel='linear') and comment clf = grid if you want to skip hyperparameter tuning. Results don't differ much."
   ]
  },
  {
   "cell_type": "code",
   "execution_count": 6,
   "metadata": {
    "executionInfo": {
     "elapsed": 799,
     "status": "ok",
     "timestamp": 1696983761698,
     "user": {
      "displayName": "Jonathan Mui Koy Kit",
      "userId": "02155718658179568681"
     },
     "user_tz": -480
    },
    "id": "4pyPl94K-qXg"
   },
   "outputs": [],
   "source": [
    "# defining parameter range\n",
    "param_grid = {'C': [0.1, 1, 10, 100, 1000],\n",
    "              'kernel': ['linear']}\n",
    "\n",
    "grid = GridSearchCV(SVC(), param_grid, refit = True, verbose = 3, cv = 5)"
   ]
  },
  {
   "cell_type": "code",
   "execution_count": 7,
   "metadata": {
    "colab": {
     "base_uri": "https://localhost:8080/",
     "height": 569
    },
    "executionInfo": {
     "elapsed": 1845291,
     "status": "ok",
     "timestamp": 1696985617432,
     "user": {
      "displayName": "Jonathan Mui Koy Kit",
      "userId": "02155718658179568681"
     },
     "user_tz": -480
    },
    "id": "YytJx8dBAQ0x",
    "outputId": "708960dd-3a39-4ad0-b65c-70f9da38d363"
   },
   "outputs": [
    {
     "name": "stdout",
     "output_type": "stream",
     "text": [
      "Fitting 5 folds for each of 5 candidates, totalling 25 fits\n",
      "[CV 1/5] END ..............C=0.1, kernel=linear;, score=0.600 total time=   0.0s\n",
      "[CV 2/5] END ..............C=0.1, kernel=linear;, score=0.600 total time=   0.0s\n",
      "[CV 3/5] END ..............C=0.1, kernel=linear;, score=0.600 total time=   0.0s\n",
      "[CV 4/5] END ..............C=0.1, kernel=linear;, score=0.250 total time=   0.0s\n",
      "[CV 5/5] END ..............C=0.1, kernel=linear;, score=1.000 total time=   0.0s\n",
      "[CV 1/5] END ................C=1, kernel=linear;, score=0.600 total time=   0.0s\n",
      "[CV 2/5] END ................C=1, kernel=linear;, score=0.600 total time=   0.0s\n",
      "[CV 3/5] END ................C=1, kernel=linear;, score=0.600 total time=   0.0s\n",
      "[CV 4/5] END ................C=1, kernel=linear;, score=0.250 total time=   0.0s\n",
      "[CV 5/5] END ................C=1, kernel=linear;, score=1.000 total time=   0.0s\n",
      "[CV 1/5] END ...............C=10, kernel=linear;, score=0.600 total time=   0.0s\n",
      "[CV 2/5] END ...............C=10, kernel=linear;, score=0.600 total time=   0.0s\n",
      "[CV 3/5] END ...............C=10, kernel=linear;, score=0.600 total time=   0.0s\n",
      "[CV 4/5] END ...............C=10, kernel=linear;, score=0.250 total time=   0.0s\n",
      "[CV 5/5] END ...............C=10, kernel=linear;, score=1.000 total time=   0.0s\n",
      "[CV 1/5] END ..............C=100, kernel=linear;, score=0.600 total time=   0.0s\n",
      "[CV 2/5] END ..............C=100, kernel=linear;, score=0.600 total time=   0.0s\n",
      "[CV 3/5] END ..............C=100, kernel=linear;, score=0.600 total time=   0.0s\n",
      "[CV 4/5] END ..............C=100, kernel=linear;, score=0.250 total time=   0.0s\n",
      "[CV 5/5] END ..............C=100, kernel=linear;, score=1.000 total time=   0.0s\n",
      "[CV 1/5] END .............C=1000, kernel=linear;, score=0.600 total time=   0.0s\n",
      "[CV 2/5] END .............C=1000, kernel=linear;, score=0.600 total time=   0.0s\n",
      "[CV 3/5] END .............C=1000, kernel=linear;, score=0.600 total time=   0.0s\n",
      "[CV 4/5] END .............C=1000, kernel=linear;, score=0.250 total time=   0.0s\n",
      "[CV 5/5] END .............C=1000, kernel=linear;, score=1.000 total time=   0.0s\n"
     ]
    },
    {
     "name": "stderr",
     "output_type": "stream",
     "text": [
      "/Users/joelwong/Desktop/CS3237/venv/lib/python3.11/site-packages/sklearn/model_selection/_split.py:725: UserWarning: The least populated class in y has only 1 members, which is less than n_splits=5.\n",
      "  warnings.warn(\n"
     ]
    },
    {
     "data": {
      "text/html": [
       "<style>#sk-container-id-1 {color: black;}#sk-container-id-1 pre{padding: 0;}#sk-container-id-1 div.sk-toggleable {background-color: white;}#sk-container-id-1 label.sk-toggleable__label {cursor: pointer;display: block;width: 100%;margin-bottom: 0;padding: 0.3em;box-sizing: border-box;text-align: center;}#sk-container-id-1 label.sk-toggleable__label-arrow:before {content: \"▸\";float: left;margin-right: 0.25em;color: #696969;}#sk-container-id-1 label.sk-toggleable__label-arrow:hover:before {color: black;}#sk-container-id-1 div.sk-estimator:hover label.sk-toggleable__label-arrow:before {color: black;}#sk-container-id-1 div.sk-toggleable__content {max-height: 0;max-width: 0;overflow: hidden;text-align: left;background-color: #f0f8ff;}#sk-container-id-1 div.sk-toggleable__content pre {margin: 0.2em;color: black;border-radius: 0.25em;background-color: #f0f8ff;}#sk-container-id-1 input.sk-toggleable__control:checked~div.sk-toggleable__content {max-height: 200px;max-width: 100%;overflow: auto;}#sk-container-id-1 input.sk-toggleable__control:checked~label.sk-toggleable__label-arrow:before {content: \"▾\";}#sk-container-id-1 div.sk-estimator input.sk-toggleable__control:checked~label.sk-toggleable__label {background-color: #d4ebff;}#sk-container-id-1 div.sk-label input.sk-toggleable__control:checked~label.sk-toggleable__label {background-color: #d4ebff;}#sk-container-id-1 input.sk-hidden--visually {border: 0;clip: rect(1px 1px 1px 1px);clip: rect(1px, 1px, 1px, 1px);height: 1px;margin: -1px;overflow: hidden;padding: 0;position: absolute;width: 1px;}#sk-container-id-1 div.sk-estimator {font-family: monospace;background-color: #f0f8ff;border: 1px dotted black;border-radius: 0.25em;box-sizing: border-box;margin-bottom: 0.5em;}#sk-container-id-1 div.sk-estimator:hover {background-color: #d4ebff;}#sk-container-id-1 div.sk-parallel-item::after {content: \"\";width: 100%;border-bottom: 1px solid gray;flex-grow: 1;}#sk-container-id-1 div.sk-label:hover label.sk-toggleable__label {background-color: #d4ebff;}#sk-container-id-1 div.sk-serial::before {content: \"\";position: absolute;border-left: 1px solid gray;box-sizing: border-box;top: 0;bottom: 0;left: 50%;z-index: 0;}#sk-container-id-1 div.sk-serial {display: flex;flex-direction: column;align-items: center;background-color: white;padding-right: 0.2em;padding-left: 0.2em;position: relative;}#sk-container-id-1 div.sk-item {position: relative;z-index: 1;}#sk-container-id-1 div.sk-parallel {display: flex;align-items: stretch;justify-content: center;background-color: white;position: relative;}#sk-container-id-1 div.sk-item::before, #sk-container-id-1 div.sk-parallel-item::before {content: \"\";position: absolute;border-left: 1px solid gray;box-sizing: border-box;top: 0;bottom: 0;left: 50%;z-index: -1;}#sk-container-id-1 div.sk-parallel-item {display: flex;flex-direction: column;z-index: 1;position: relative;background-color: white;}#sk-container-id-1 div.sk-parallel-item:first-child::after {align-self: flex-end;width: 50%;}#sk-container-id-1 div.sk-parallel-item:last-child::after {align-self: flex-start;width: 50%;}#sk-container-id-1 div.sk-parallel-item:only-child::after {width: 0;}#sk-container-id-1 div.sk-dashed-wrapped {border: 1px dashed gray;margin: 0 0.4em 0.5em 0.4em;box-sizing: border-box;padding-bottom: 0.4em;background-color: white;}#sk-container-id-1 div.sk-label label {font-family: monospace;font-weight: bold;display: inline-block;line-height: 1.2em;}#sk-container-id-1 div.sk-label-container {text-align: center;}#sk-container-id-1 div.sk-container {/* jupyter's `normalize.less` sets `[hidden] { display: none; }` but bootstrap.min.css set `[hidden] { display: none !important; }` so we also need the `!important` here to be able to override the default hidden behavior on the sphinx rendered scikit-learn.org. See: https://github.com/scikit-learn/scikit-learn/issues/21755 */display: inline-block !important;position: relative;}#sk-container-id-1 div.sk-text-repr-fallback {display: none;}</style><div id=\"sk-container-id-1\" class=\"sk-top-container\"><div class=\"sk-text-repr-fallback\"><pre>GridSearchCV(cv=5, estimator=SVC(),\n",
       "             param_grid={&#x27;C&#x27;: [0.1, 1, 10, 100, 1000], &#x27;kernel&#x27;: [&#x27;linear&#x27;]},\n",
       "             verbose=3)</pre><b>In a Jupyter environment, please rerun this cell to show the HTML representation or trust the notebook. <br />On GitHub, the HTML representation is unable to render, please try loading this page with nbviewer.org.</b></div><div class=\"sk-container\" hidden><div class=\"sk-item sk-dashed-wrapped\"><div class=\"sk-label-container\"><div class=\"sk-label sk-toggleable\"><input class=\"sk-toggleable__control sk-hidden--visually\" id=\"sk-estimator-id-1\" type=\"checkbox\" ><label for=\"sk-estimator-id-1\" class=\"sk-toggleable__label sk-toggleable__label-arrow\">GridSearchCV</label><div class=\"sk-toggleable__content\"><pre>GridSearchCV(cv=5, estimator=SVC(),\n",
       "             param_grid={&#x27;C&#x27;: [0.1, 1, 10, 100, 1000], &#x27;kernel&#x27;: [&#x27;linear&#x27;]},\n",
       "             verbose=3)</pre></div></div></div><div class=\"sk-parallel\"><div class=\"sk-parallel-item\"><div class=\"sk-item\"><div class=\"sk-label-container\"><div class=\"sk-label sk-toggleable\"><input class=\"sk-toggleable__control sk-hidden--visually\" id=\"sk-estimator-id-2\" type=\"checkbox\" ><label for=\"sk-estimator-id-2\" class=\"sk-toggleable__label sk-toggleable__label-arrow\">estimator: SVC</label><div class=\"sk-toggleable__content\"><pre>SVC()</pre></div></div></div><div class=\"sk-serial\"><div class=\"sk-item\"><div class=\"sk-estimator sk-toggleable\"><input class=\"sk-toggleable__control sk-hidden--visually\" id=\"sk-estimator-id-3\" type=\"checkbox\" ><label for=\"sk-estimator-id-3\" class=\"sk-toggleable__label sk-toggleable__label-arrow\">SVC</label><div class=\"sk-toggleable__content\"><pre>SVC()</pre></div></div></div></div></div></div></div></div></div></div>"
      ],
      "text/plain": [
       "GridSearchCV(cv=5, estimator=SVC(),\n",
       "             param_grid={'C': [0.1, 1, 10, 100, 1000], 'kernel': ['linear']},\n",
       "             verbose=3)"
      ]
     },
     "execution_count": 7,
     "metadata": {},
     "output_type": "execute_result"
    }
   ],
   "source": [
    "# Train SVM\n",
    "# clf = SVC(kernel='linear')\n",
    "clf = grid\n",
    "clf.fit(X_train, y_train)"
   ]
  },
  {
   "cell_type": "markdown",
   "metadata": {
    "id": "YMKim0OVASln"
   },
   "source": [
    "# 4. Evaluate Baseline classifier (SVM)\n",
    "Throw test set data into our trained SVM model and print out evaluation metrics (classification accuracy and confusion matrix are preferred by prof). We also use precision and recall to see how well our data has been classified.\n",
    "\n",
    "- Precision: How many retrieved items are relevant? (i.e. Out of all the data classified as positive, how many of them are actually positive?)\n",
    "- Recall: How many relevant items are retrieved? (i.e. Out of all the data that are labelled as positive, how many of them end up being classified as positive?)\n",
    "\n",
    "**Todo: Train it with dataset from the test folder (need to load the images in from there)**"
   ]
  },
  {
   "cell_type": "code",
   "execution_count": 9,
   "metadata": {
    "colab": {
     "base_uri": "https://localhost:8080/",
     "height": 755
    },
    "executionInfo": {
     "elapsed": 17492,
     "status": "ok",
     "timestamp": 1696985644962,
     "user": {
      "displayName": "Jonathan Mui Koy Kit",
      "userId": "02155718658179568681"
     },
     "user_tz": -480
    },
    "id": "dakXp-izAr0m",
    "outputId": "2bafb077-b04e-4906-bf87-fc453798d53b"
   },
   "outputs": [
    {
     "name": "stdout",
     "output_type": "stream",
     "text": [
      "Classification Accuracy: 66.67%\n",
      "              precision    recall  f1-score   support\n",
      "\n",
      "           0       1.00      1.00      1.00         1\n",
      "           1       0.50      1.00      0.67         2\n",
      "           2       1.00      0.50      0.67         2\n",
      "           3       0.00      0.00      0.00         1\n",
      "\n",
      "    accuracy                           0.67         6\n",
      "   macro avg       0.62      0.62      0.58         6\n",
      "weighted avg       0.67      0.67      0.61         6\n",
      "\n"
     ]
    },
    {
     "name": "stderr",
     "output_type": "stream",
     "text": [
      "/Users/joelwong/Desktop/CS3237/venv/lib/python3.11/site-packages/sklearn/metrics/_classification.py:1469: UndefinedMetricWarning: Precision and F-score are ill-defined and being set to 0.0 in labels with no predicted samples. Use `zero_division` parameter to control this behavior.\n",
      "  _warn_prf(average, modifier, msg_start, len(result))\n",
      "/Users/joelwong/Desktop/CS3237/venv/lib/python3.11/site-packages/sklearn/metrics/_classification.py:1469: UndefinedMetricWarning: Precision and F-score are ill-defined and being set to 0.0 in labels with no predicted samples. Use `zero_division` parameter to control this behavior.\n",
      "  _warn_prf(average, modifier, msg_start, len(result))\n",
      "/Users/joelwong/Desktop/CS3237/venv/lib/python3.11/site-packages/sklearn/metrics/_classification.py:1469: UndefinedMetricWarning: Precision and F-score are ill-defined and being set to 0.0 in labels with no predicted samples. Use `zero_division` parameter to control this behavior.\n",
      "  _warn_prf(average, modifier, msg_start, len(result))\n"
     ]
    },
    {
     "data": {
      "text/plain": [
       "Text(0.5, 1.0, 'Confusion Matrix')"
      ]
     },
     "execution_count": 9,
     "metadata": {},
     "output_type": "execute_result"
    },
    {
     "data": {
      "image/png": "[encoded data removed]",
      "text/plain": [
       "<Figure size 800x600 with 2 Axes>"
      ]
     },
     "metadata": {},
     "output_type": "display_data"
    }
   ],
   "source": [
    "# Evaluate\n",
    "# 1. Predict the classes on the test set\n",
    "y_pred = clf.predict(X_test)\n",
    "\n",
    "# 2. Calculate the classification accuracy\n",
    "accuracy = accuracy_score(y_test, y_pred)\n",
    "print(f\"Classification Accuracy: {accuracy * 100:.2f}%\")\n",
    "print(classification_report(y_test, y_pred))\n",
    "\n",
    "# 3. Compute the confusion matrix\n",
    "conf_matrix = confusion_matrix(y_test, y_pred)\n",
    "\n",
    "# 4. Display the confusion matrix\n",
    "plt.figure(figsize=(8, 6))\n",
    "sns.heatmap(conf_matrix, annot=True, fmt=\"d\", cmap=\"Blues\",\n",
    "            xticklabels=[\"Nobody\", \"Reading\", \"Computer\", \"Sleep\"],\n",
    "            yticklabels=[\"Nobody\", \"Reading\", \"Computer\", \"Sleep\"])\n",
    "plt.ylabel('Actual')\n",
    "plt.xlabel('Predicted')\n",
    "plt.title('Confusion Matrix')"
   ]
  },
  {
   "cell_type": "markdown",
   "metadata": {
    "id": "MG0LVFdEAuhD"
   },
   "source": [
    "# 5. Train improved classification method (CNN)\n",
    "We can use a Convolutional Neural Network here"
   ]
  },
  {
   "cell_type": "code",
   "execution_count": 12,
   "metadata": {
    "id": "yRvcFOENAy2d"
   },
   "outputs": [
    {
     "name": "stdout",
     "output_type": "stream",
     "text": [
      "Accuracy of the network on the test data: 66 %\n"
     ]
    }
   ],
   "source": [
    "import torch\n",
    "import torch.nn as nn\n",
    "import torch.optim as optim\n",
    "from torch.utils.data import TensorDataset, DataLoader\n",
    "\n",
    "# Define a CNN model for 1D feature vectors\n",
    "class CNNModel(nn.Module):\n",
    "    def __init__(self, input_size, num_classes):\n",
    "        super(CNNModel, self).__init__()\n",
    "        self.fc1 = nn.Linear(input_size, 128)\n",
    "        self.fc2 = nn.Linear(128, num_classes)\n",
    "\n",
    "    def forward(self, x):\n",
    "        x = nn.functional.relu(self.fc1(x))\n",
    "        x = self.fc2(x)\n",
    "        return x\n",
    "\n",
    "# Initialize the model and set hyperparameters\n",
    "input_size = X_train.shape[1]  # Input size based on the feature vector dimensions\n",
    "model = CNNModel(input_size, num_classes=4)  # 4 classes for classification\n",
    "criterion = nn.CrossEntropyLoss()\n",
    "optimizer = optim.Adam(model.parameters(), lr=0.001)\n",
    "\n",
    "# Create DataLoader for training and testing data\n",
    "train_dataset = TensorDataset(torch.Tensor(X_train), torch.LongTensor(y_train))\n",
    "test_dataset = TensorDataset(torch.Tensor(X_test), torch.LongTensor(y_test))\n",
    "\n",
    "train_loader = DataLoader(train_dataset, batch_size=64, shuffle=True)\n",
    "test_loader = DataLoader(test_dataset, batch_size=64, shuffle=False)\n",
    "\n",
    "# Training loop\n",
    "for epoch in range(10):  # Adjust the number of epochs\n",
    "    for features, labels in train_loader:\n",
    "        optimizer.zero_grad()\n",
    "        outputs = model(features)\n",
    "        loss = criterion(outputs, labels)\n",
    "        loss.backward()\n",
    "        optimizer.step()\n",
    "\n",
    "# Evaluate the model\n",
    "correct = 0\n",
    "total = 0\n",
    "with torch.no_grad():\n",
    "    for features, labels in test_loader:\n",
    "        outputs = model(features)\n",
    "        _, predicted = torch.max(outputs, 1)\n",
    "        total += labels.size(0)\n",
    "        correct += (predicted == labels).sum().item()\n",
    "\n",
    "print('Accuracy of the network on the test data: %d %%' % (100 * correct / total))\n"
   ]
  },
  {
   "cell_type": "markdown",
   "metadata": {
    "id": "iP0oE8HwBAbU"
   },
   "source": [
    "# 6. Evaluate improved classification method (CNN)"
   ]
  },
  {
   "cell_type": "code",
   "execution_count": null,
   "metadata": {
    "id": "V7qsxwdpBFPH"
   },
   "outputs": [],
   "source": []
  },
  {
   "cell_type": "code",
   "execution_count": null,
   "metadata": {},
   "outputs": [],
   "source": []
  }
 ],
 "metadata": {
  "accelerator": "GPU",
  "colab": {
   "authorship_tag": "ABX9TyN76HAm9Ury5zS6u3sgjirA",
   "gpuType": "T4",
   "provenance": []
  },
  "kernelspec": {
   "display_name": "Python 3 (ipykernel)",
   "language": "python",
   "name": "python3"
  },
  "language_info": {
   "codemirror_mode": {
    "name": "ipython",
    "version": 3
   },
   "file_extension": ".py",
   "mimetype": "text/x-python",
   "name": "python",
   "nbconvert_exporter": "python",
   "pygments_lexer": "ipython3",
   "version": "3.11.1"
  }
 },
 "nbformat": 4,
 "nbformat_minor": 4
}
